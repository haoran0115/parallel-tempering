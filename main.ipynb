{
 "cells": [
  {
   "cell_type": "markdown",
   "id": "b868d322-d759-4f3b-8ed5-e2dc002a38f8",
   "metadata": {
    "tags": []
   },
   "source": [
    "# Parallel tempering of 1-D particle\n",
    "## Introduction\n",
    "For molecular simulations using Monte Carlo schemes, there would always be an incomplete sampling issue when the temperature is low. Parallel tempering is an MC-based method that has been invented to have better sampling results of a system that has many local minima.\n",
    "The basic idea is, for $NVT$ ensembles which have the same $NV$ but under different temperature $T$, we define the \"extended\" ensemble which is the combination of these ensembles. Thus, the partition function could be expressed as\n",
    "$$\n",
    "Z_\\text{extended} = \\prod_{i=1}^n Z_{NVT_i}\n",
    "$$\n",
    "At that time, we introduce a special Monte Carlo move of the exchange of temperature between two ensembles.\n",
    "For example, swap the temperature of $i$th ensemble and $j$th ensemble\n",
    "$$\n",
    "(x_i, T_i)(x_j, T_j) \\rightarrow (x_i, T_j)(x_j, T_i)\n",
    "$$\n",
    "It is easy to derive that the probability of acceptance for the above exchange move is equal to\n",
    "$$\n",
    "\\text{acc} = \\exp[(\\beta_i - \\beta_j)(U(x_i) - U(x_j))]\n",
    "$$\n",
    "Note that this exchange is also called Hamiltonian swapping.\n",
    "\n",
    "For example, the pesudo-code for parallel tempering in `main.f90` is\n",
    "```fortran\n",
    "! main program\n",
    "do i = 1, n_iter\n",
    "    ! perform MC move for each ensemble separately\n",
    "    do j = 1, total_replica\n",
    "        !!! MC move !!!\n",
    "    end do\n",
    "\n",
    "    ! perform Hamitonian swapping every n_exchage\n",
    "    if (mod(i, n_exchage) .eq. 0) then\n",
    "        !!! exchange temperature !!!\n",
    "    end if\n",
    "    \n",
    "    ! do record every n_record\n",
    "    if (mod(i, n_record) .eq. 0) then\n",
    "        !!! record data !!!\n",
    "    end if\n",
    "end do\n",
    "```\n",
    "And the 1-D potential energy function is defined as\n",
    "$$\n",
    "U(x) = 5\\cos\\left(\\frac{\\pi}{10}x\\right) + 1\n",
    "$$\n",
    "with the boundary condition\n",
    "$$\n",
    "x_\\text{min} = 0.0, x_\\text{max} = 80.0\n",
    "$$"
   ]
  },
  {
   "cell_type": "markdown",
   "id": "c182b695-7a13-42f2-957c-4fb01676065f",
   "metadata": {},
   "source": [
    "## Step 0: import essential packages"
   ]
  },
  {
   "cell_type": "code",
   "execution_count": 1,
   "id": "be159720-4fdd-43b5-a9a7-8e6f733cb6cc",
   "metadata": {},
   "outputs": [],
   "source": [
    "import numpy as np\n",
    "import matplotlib.pyplot as plt"
   ]
  },
  {
   "cell_type": "markdown",
   "id": "21ac1443-b98d-4876-8bbb-b322858cf8b9",
   "metadata": {
    "tags": []
   },
   "source": [
    "## Step 1: run the main program\n",
    "The main replica program is written in Fortran, and could be compiled and run with `gfortran` installed. You can costume the parameters in `main.f90`. For example, you can change the number of total replica (default is 4)."
   ]
  },
  {
   "cell_type": "code",
   "execution_count": 2,
   "id": "2c78ad3d-2097-429f-83ce-dc59cd97f40b",
   "metadata": {},
   "outputs": [
    {
     "name": "stdout",
     "output_type": "stream",
     "text": [
      "make\n",
      "make[1]: Entering directory '/home/shiroha/Documents/cuhksz/BIM3010/trial/parallel_tempering'\n",
      "make[1]: 'parallel_tempering' is up to date.\n",
      "make[1]: Leaving directory '/home/shiroha/Documents/cuhksz/BIM3010/trial/parallel_tempering'\n",
      "./parallel_tempering\n"
     ]
    }
   ],
   "source": [
    "# if you already run the program, please SKIP this cell!\n",
    "# data would be generated as tmp.dat\n",
    "!make run"
   ]
  },
  {
   "cell_type": "markdown",
   "id": "fc1d239c-062a-4b5c-bf5b-0c7e4cfee3d6",
   "metadata": {},
   "source": [
    "## Step 2: load data into numpy arrays"
   ]
  },
  {
   "cell_type": "code",
   "execution_count": 3,
   "id": "5845513c-8404-4a4e-84ec-37a98938cb7e",
   "metadata": {},
   "outputs": [
    {
     "name": "stdout",
     "output_type": "stream",
     "text": [
      "There are 1000000 recorded datapoints and 4 replicas.\n"
     ]
    }
   ],
   "source": [
    "dat  = np.loadtxt(\"coords.dat\")\n",
    "info = np.loadtxt(\"info.dat\")\n",
    "temp = np.loadtxt(\"temp.dat\")\n",
    "print(\"There are {} recorded datapoints and {} replicas.\".format(dat.shape[0], dat.shape[1]))"
   ]
  },
  {
   "cell_type": "markdown",
   "id": "25780d97-0c9d-4fc6-9f74-d7724690bd0d",
   "metadata": {},
   "source": [
    "## Step 3: plot data population"
   ]
  },
  {
   "cell_type": "code",
   "execution_count": 4,
   "id": "431b7480-f3a0-4c2a-9fc3-582eeba5f33d",
   "metadata": {},
   "outputs": [
    {
     "data": {
      "image/png": "[encoded data removed]",
      "text/plain": [
       "<Figure size 504x576 with 4 Axes>"
      ]
     },
     "metadata": {
      "needs_background": "light"
     },
     "output_type": "display_data"
    }
   ],
   "source": [
    "total_replica = dat.shape[1]\n",
    "fig, axes = plt.subplots(total_replica, 1, figsize=(7, 8))\n",
    "for i in range(total_replica):\n",
    "    axes[i].hist(dat[:, i], int(info[2]))\n",
    "    axes[i].set_xlim(info[0], info[1])\n",
    "    axes[i].set_ylabel(\"# of count\")\n",
    "    axes[i].legend([\"$T = {:.3f}$\".format(temp[i])], loc=[0.79, 0.8])\n",
    "    if i==total_replica-1:\n",
    "        axes[i].set_xlabel(\"$x$ coordinate\")\n",
    "plt.tight_layout()"
   ]
  },
  {
   "cell_type": "markdown",
   "id": "083dc08e-4327-403c-9d12-e38af23ebeb7",
   "metadata": {
    "tags": []
   },
   "source": [
    "## References\n",
    "* Frenkel, Daan, and Berend Smit. Understanding molecular simulation: from algorithms to applications. Vol. 1. Elsevier, 2001."
   ]
  }
 ],
 "metadata": {
  "kernelspec": {
   "display_name": "qm",
   "language": "python",
   "name": "qm"
  },
  "language_info": {
   "codemirror_mode": {
    "name": "ipython",
    "version": 3
   },
   "file_extension": ".py",
   "mimetype": "text/x-python",
   "name": "python",
   "nbconvert_exporter": "python",
   "pygments_lexer": "ipython3",
   "version": "3.7.10"
  }
 },
 "nbformat": 4,
 "nbformat_minor": 5
}
